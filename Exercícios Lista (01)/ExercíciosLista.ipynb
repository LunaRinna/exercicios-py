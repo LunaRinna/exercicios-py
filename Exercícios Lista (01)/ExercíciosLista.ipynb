{
  "metadata": {
    "language_info": {
      "codemirror_mode": {
        "name": "python",
        "version": 3
      },
      "file_extension": ".py",
      "mimetype": "text/x-python",
      "name": "python",
      "nbconvert_exporter": "python",
      "pygments_lexer": "ipython3",
      "version": "3.8"
    },
    "kernelspec": {
      "name": "python",
      "display_name": "Python (Pyodide)",
      "language": "python"
    }
  },
  "nbformat_minor": 4,
  "nbformat": 4,
  "cells": [
    {
      "cell_type": "markdown",
      "source": "<br>",
      "metadata": {}
    },
    {
      "cell_type": "markdown",
      "source": "**```Exercícios Teóricos```**",
      "metadata": {}
    },
    {
      "cell_type": "markdown",
      "source": "`1.` - **Nas suas palavras o que é versionamento de código? Porque é necessário versionamento de código?**",
      "metadata": {}
    },
    {
      "cell_type": "markdown",
      "source": "*`O versionamento de código serve para que tenhamos um histórico das mudanças realizadas no código, sendo necessário para caso tenhamos de restaurar alguma versão anterior do código.`*",
      "metadata": {}
    },
    {
      "cell_type": "markdown",
      "source": "`2.` - **Fazendo parte de um time em que a todo momento novo código está sendo inserido, é possível que eu saiba quem foi a pessoa que escreveu uma determinada parte do código usando git? Se sim, descreva como.**",
      "metadata": {}
    },
    {
      "cell_type": "markdown",
      "source": "*`Sim, isso é possível através do comando git log, que é utilizado para verificar todo o histórico de commits realizadas no código.`*",
      "metadata": {}
    },
    {
      "cell_type": "markdown",
      "source": "`3.` - **Qual a diferença entre git e GitHub/GitLab/BitBucket etc?**",
      "metadata": {}
    },
    {
      "cell_type": "markdown",
      "source": "*`O Git é um dos principais repositórios de código, enquanto sites como GitHub, GitLab e BitBucket são ferramentas utilizadas para o desenvolvimento coletivo de projetos que utilizam o Git.`*",
      "metadata": {}
    },
    {
      "cell_type": "markdown",
      "source": "`4.` - **Qual a diferença de uma linguagem compilada e uma linguagem interpretada? O que é uma linguagem de alto nível?**",
      "metadata": {}
    },
    {
      "cell_type": "markdown",
      "source": "*`Enquanto uma linguagem compilada faz (como o nome sugere) uma compilação do código antes de executá-lo, apontando potenciais erros que possam ocorrer e impedindo a execução do código caso não sejam corrigidos na maioria dos casos, uma linguagem interpretada executa o código em tempo real, ignorando quaisquer erros até executar aquele determinado trecho do código. Não necessariamente uma linguagem interpretada será somente interpretada, podendo também ser compilada. Um possível exemplo disto seria a linguagem Python, que apesar de ser uma linguagem interpretada, também é uma linguagem compilada (em C). Além disso, Python também é uma linguagem de alto nível, ou seja, é uma linguagem de fácil entendimento (por parte do desenvolvedor) porém bem mais distante da forma como a máquina lê o código (em binário). Uma linguagem de baixo nível a ser exemplificada poderia ser a linguagem Assembly.`*",
      "metadata": {}
    },
    {
      "cell_type": "markdown",
      "source": "<br>",
      "metadata": {}
    },
    {
      "cell_type": "markdown",
      "source": "**```Exercícios Práticos```**",
      "metadata": {}
    },
    {
      "cell_type": "markdown",
      "source": "*`Os exercícios práticos podem ser encontrados dentro da pasta \"Exercícios Práticos\" encontrada neste repositório, subdivididos em suas respectivas pastas.`*",
      "metadata": {}
    },
    {
      "cell_type": "markdown",
      "source": "<br>",
      "metadata": {}
    },
    {
      "cell_type": "markdown",
      "source": "```Testando as funcionalidades do Jupyter Notebook.```<br>\n*`Luna Antunes Pires`*",
      "metadata": {}
    },
    {
      "cell_type": "markdown",
      "source": "<br>",
      "metadata": {}
    }
  ]
}